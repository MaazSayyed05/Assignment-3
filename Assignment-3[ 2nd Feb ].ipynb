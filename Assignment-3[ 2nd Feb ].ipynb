{
 "cells": [
  {
   "cell_type": "code",
   "execution_count": 2,
   "id": "6b3bf51f-c334-4ad5-914a-eb96a55e8c25",
   "metadata": {},
   "outputs": [
    {
     "name": "stdout",
     "output_type": "stream",
     "text": [
      "E.g. of for loop.\n",
      "10\n",
      "20\n",
      "30\n",
      "40\n",
      "50\n",
      "E.g. of while loop.\n",
      "1\n",
      "2\n",
      "3\n",
      "4\n",
      "5\n",
      "6\n",
      "7\n",
      "8\n",
      "9\n",
      "10\n"
     ]
    }
   ],
   "source": [
    "# Q1\n",
    "# -> For loop is used when the number of iterations is already known. \n",
    "# -> While loop is used when the number of iterations is already Unknown\n",
    "print(\"E.g. of for loop.\")\n",
    "t1=(10,20,30,40,50)\n",
    "for i in t1:\n",
    "    print(i)\n",
    "\n",
    "print(\"E.g. of while loop.\")\n",
    "i=1\n",
    "while i<=10:\n",
    "    print(i);i=i+1\n",
    "    "
   ]
  },
  {
   "cell_type": "code",
   "execution_count": 2,
   "id": "d49ecf3b-50d2-4fab-99d5-d0a96243c263",
   "metadata": {},
   "outputs": [
    {
     "name": "stdout",
     "output_type": "stream",
     "text": [
      "Using for loop: 55\n",
      "Using while loop: 55\n"
     ]
    }
   ],
   "source": [
    "# Q2\n",
    "sum_for=0\n",
    "for i in range(1,11):\n",
    "    sum_for=sum_for+i\n",
    "\n",
    "print(\"Using for loop: \"+str(sum_for))\n",
    "\n",
    "sum_while=0\n",
    "i=1\n",
    "while i<11:\n",
    "    sum_while=sum_while+i;i=i+1\n",
    "\n",
    "print(\"Using while loop: \"+str(sum_while))\n"
   ]
  },
  {
   "cell_type": "code",
   "execution_count": 4,
   "id": "766d245b-418c-43f7-bf3e-ef8604e58cae",
   "metadata": {},
   "outputs": [
    {
     "name": "stdin",
     "output_type": "stream",
     "text": [
      "Enter no. of units of electricity consumed:  310\n"
     ]
    },
    {
     "name": "stdout",
     "output_type": "stream",
     "text": [
      "Total cost: 2250.0\n"
     ]
    }
   ],
   "source": [
    "# Q3\n",
    "i=1;cost=0;\n",
    "n_units=float(input(\"Enter no. of units of electricity consumed: \"))\n",
    "\n",
    "while i<=n_units:\n",
    "    if i in range(1,101):\n",
    "        cost=cost+4.5;i=i+1\n",
    "    elif i in range(101,201):\n",
    "        cost=cost+6;i=i+1\n",
    "    elif i in range(201,301):\n",
    "        cost=cost+10;i=i+1\n",
    "    else:\n",
    "        cost=cost+20;i=i+1\n",
    "\n",
    "print(\"Total cost: \"+str(cost))\n"
   ]
  },
  {
   "cell_type": "code",
   "execution_count": 1,
   "id": "56e32846-6e1b-4226-8553-988e8a5db854",
   "metadata": {},
   "outputs": [
    {
     "name": "stdout",
     "output_type": "stream",
     "text": [
      "[2, 4, 5, 6, 8, 10, 12, 14, 15, 16, 18, 20, 22, 24, 25, 26, 28, 30, 32, 34, 35, 36, 38, 40, 42, 44, 45, 46, 48, 50, 52, 54, 55, 56, 58, 60, 62, 64, 65, 66, 68, 70, 72, 74, 75, 76, 78, 80, 82, 84, 85, 86, 88, 90, 92, 94, 95, 96, 98, 100]\n",
      "[2, 4, 5, 6, 8, 10, 12, 14, 15, 16, 18, 20, 22, 24, 25, 26, 28, 30, 32, 34, 35, 36, 38, 40, 42, 44, 45, 46, 48, 50, 52, 54, 55, 56, 58, 60, 62, 64, 65, 66, 68, 70, 72, 74, 75, 76, 78, 80, 82, 84, 85, 86, 88, 90, 92, 94, 95, 96, 98, 100]\n"
     ]
    }
   ],
   "source": [
    "# Q4\n",
    "l1=list(range(1,101))\n",
    "l2_for=[]\n",
    "for i in l1:\n",
    "    if ((i*i*i)%4==0 or (i*i*i)%5==0):\n",
    "        l2_for.append(i)\n",
    "print(l2_for)\n",
    "\n",
    "\n",
    "l2_while=[]\n",
    "i=1\n",
    "while i<len(l1):\n",
    "    if((l1[i]*l1[i]*l1[i])%4==0 or (l1[i]*l1[i]*l1[i])%5==0):\n",
    "        l2_while.append(l1[i])\n",
    "        i=i+1\n",
    "    else:\n",
    "        i=i+1\n",
    "\n",
    "print(l2_while)\n",
    "\n",
    "\n"
   ]
  },
  {
   "cell_type": "code",
   "execution_count": 3,
   "id": "a5995559-f937-4c47-a6d7-f8c45698a4a9",
   "metadata": {},
   "outputs": [
    {
     "name": "stdout",
     "output_type": "stream",
     "text": [
      "The no. of vowels in above string is: 12\n"
     ]
    }
   ],
   "source": [
    "# Q5\n",
    "str1=\"I want to become a data scientist\"\n",
    "n_vowel=0\n",
    "for i in str1:\n",
    "    if i==\"a\" or i==\"e\" or i==\"i\" or i==\"o\" or i==\"u\" or  i==\"A\" or i==\"E\" or i==\"I\" or i==\"O\" or i==\"U\":\n",
    "              n_vowel=n_vowel+1\n",
    "\n",
    "print(\"The no. of vowels in above string is: \"+str(n_vowel))\n",
    "\n",
    "\n"
   ]
  },
  {
   "cell_type": "code",
   "execution_count": null,
   "id": "8f05da49-9856-432e-9eb8-62d22119c1a6",
   "metadata": {},
   "outputs": [],
   "source": []
  },
  {
   "cell_type": "code",
   "execution_count": null,
   "id": "8458fda8-cb55-4698-bd10-7cf6f88991c5",
   "metadata": {},
   "outputs": [],
   "source": []
  },
  {
   "cell_type": "code",
   "execution_count": null,
   "id": "3f81200c-1453-4bc8-928e-dcfe2e108996",
   "metadata": {},
   "outputs": [],
   "source": []
  }
 ],
 "metadata": {
  "kernelspec": {
   "display_name": "Python 3 (ipykernel)",
   "language": "python",
   "name": "python3"
  },
  "language_info": {
   "codemirror_mode": {
    "name": "ipython",
    "version": 3
   },
   "file_extension": ".py",
   "mimetype": "text/x-python",
   "name": "python",
   "nbconvert_exporter": "python",
   "pygments_lexer": "ipython3",
   "version": "3.10.8"
  }
 },
 "nbformat": 4,
 "nbformat_minor": 5
}
